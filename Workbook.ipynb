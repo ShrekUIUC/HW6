{
  "cells": [
    {
      "cell_type": "code",
      "source": [
        "!pip install --upgrade altair"
      ],
      "metadata": {
        "id": "bNdbm-1coHkL"
      },
      "execution_count": null,
      "outputs": []
    },
    {
      "cell_type": "code",
      "execution_count": null,
      "metadata": {
        "id": "9J5qkQzvoAGd"
      },
      "outputs": [],
      "source": [
        "import pandas as pd\n",
        "import altair as alt\n",
        "import numpy as np\n",
        "alt.renderers.enable('default')\n",
        "\n",
        "alt.data_transformers.disable_max_rows()"
      ]
    },
    {
      "cell_type": "code",
      "execution_count": null,
      "metadata": {
        "id": "iDfhEZZpoAGf"
      },
      "outputs": [],
      "source": [
        "df=pd.read_csv(\"https://raw.githubusercontent.com/UIUC-iSchool-DataViz/is445_data/main/ufo-scrubbed-geocoded-time-standardized-00.csv\")"
      ]
    },
    {
      "cell_type": "code",
      "execution_count": null,
      "metadata": {
        "id": "IWGAPsaFoAGg"
      },
      "outputs": [],
      "source": [
        "df.head(1)"
      ]
    },
    {
      "cell_type": "code",
      "execution_count": null,
      "metadata": {
        "id": "7ZyWBclroAGg"
      },
      "outputs": [],
      "source": [
        "df.columns=['datetime','city','state','country','shape','duration (seconds)','duration (hours/min)','comments','date_posted','latitude','longitude']"
      ]
    },
    {
      "cell_type": "code",
      "execution_count": null,
      "metadata": {
        "id": "--u2pRkXoAGg"
      },
      "outputs": [],
      "source": [
        "df"
      ]
    },
    {
      "cell_type": "code",
      "execution_count": null,
      "metadata": {
        "id": "TSBIiwLdoAGh"
      },
      "outputs": [],
      "source": [
        "df.columns"
      ]
    },
    {
      "cell_type": "code",
      "execution_count": null,
      "metadata": {
        "id": "HesKk7RhoAGh"
      },
      "outputs": [],
      "source": [
        "data=df.dropna()"
      ]
    },
    {
      "cell_type": "code",
      "execution_count": null,
      "metadata": {
        "id": "cDTL2FUQoAGi"
      },
      "outputs": [],
      "source": [
        "df.country.nunique()"
      ]
    },
    {
      "cell_type": "code",
      "execution_count": null,
      "metadata": {
        "id": "svLrbpmHoAGi"
      },
      "outputs": [],
      "source": [
        "box_chart=alt.Chart(data).mark_boxplot().encode(\n",
        "    alt.X('duration (seconds):Q').scale(type='log').title(\"Log-Seconds\"),\n",
        "    alt.Y('shape:N').title(\"Boxplot of Unique shape\"),\n",
        "    alt.Color('country:N').scale(scheme='rainbow'),\n",
        ").properties(\n",
        "    width=1500,\n",
        "    height=600\n",
        ").interactive()\n",
        "box_chart"
      ]
    },
    {
      "cell_type": "markdown",
      "source": [
        "The chart visualizes UFO sighting durations by country. It shows the distribution of durations using box plots. Key insights include:\n",
        "\n",
        "    1. Duration Range: Most sightings last between 1 and 10 seconds, but some countries have longer durations.\n",
        "    2. Outliers: Several countries have outliers, indicating exceptionally long sightings.\n",
        "    3. Country-Specific Patterns: Different countries exhibit distinct patterns in sighting durations.\n",
        "\n",
        "This chart helps identify countries with unique sighting characteristics and potential anomalies."
      ],
      "metadata": {
        "id": "wwaK3p_J9ocu"
      }
    },
    {
      "cell_type": "code",
      "source": [
        "# Create a selection object for single selection based on country\n",
        "selection = alt.selection_point(fields=['country'], bind='legend')\n",
        "df_filtered = df.dropna(subset=['shape', 'country', 'duration (seconds)'])\n",
        "df_filtered['year'] = pd.to_datetime(df_filtered['datetime']).dt.year\n",
        "# Bar Chart: Sum of UFO sighting durations by country with log scale\n",
        "bchart = alt.Chart(df_filtered).mark_bar().encode(\n",
        "    alt.X('country:N', title='Country'),\n",
        "    alt.Y('average(duration (seconds)):Q', scale=alt.Scale(type='log'), title='Average Duration (seconds) (Log Scale)'),\n",
        "    alt.Color('country:N', legend=alt.Legend(title='Country')),\n",
        "    # Apply opacity condition directly\n",
        "    alt.Opacity(\n",
        "        condition=selection,  # Use selection directly\n",
        "        value=0.1  # Fallback value for unselected items\n",
        "    )\n",
        ").properties(\n",
        "    width=600,\n",
        "    height=400,\n",
        "    title=\"UFO Sightings by Country\"\n",
        ").add_params(selection).interactive()\n",
        "\n",
        "# Line Chart: Average duration per year by country\n",
        "lchart = alt.Chart(df_filtered).mark_line().encode(\n",
        "    alt.X('year:O', title='Year'),\n",
        "    alt.Y('average(duration (seconds)):Q', scale=alt.Scale(type='log'), title='Average Duration (seconds) (Log Scale)'),\n",
        "    alt.Color('country:N', legend=alt.Legend(title='Country')),\n",
        "    alt.Tooltip(['year', 'average(duration (seconds))']),\n",
        "    # Apply opacity condition directly\n",
        "    alt.Opacity(\n",
        "        condition=selection,  # Use selection directly\n",
        "        value=0.1  # Fallback value for unselected items\n",
        "    )\n",
        ").properties(\n",
        "    width=900,\n",
        "    height=400,\n",
        "    title=\"Average Duration Distribution by Year and Country\"\n",
        ").add_params(selection).interactive()\n",
        "\n",
        "# Combine both charts side by side\n",
        "combined_chart = alt.hconcat(bchart, lchart)\n",
        "\n",
        "combined_chart\n"
      ],
      "metadata": {
        "id": "d3-VFAIFxi0G"
      },
      "execution_count": null,
      "outputs": []
    },
    {
      "cell_type": "markdown",
      "source": [
        "### Note on the Plot\n",
        "1. The interactive chart effectively visualizes UFO sighting data by country and year.\n",
        "2. By allowing users to select a country, the chart dynamically highlights the selected country's data in both the bar and line charts, providing a clear comparison with other countries. This interactivity enhances data exploration and enables users to focus on specific countries of interest. However, constructing this chart posed challenges, primarily due to the need to filter data based on the selected country and then update both charts simultaneously.\n",
        "3. To overcome this, a combination of filtering techniques and careful chart layering was employed. By creating separate charts for selected and non-selected data and then layering them, the desired interactive effect was achieved.\n",
        "4. This approach ensures that the selected country's data remains prominent while fading out the rest, providing a clear and focused visualization."
      ],
      "metadata": {
        "id": "h9VRTRpL9Fif"
      }
    },
    {
      "cell_type": "code",
      "source": [
        "box_chart.to_json('box_chart.json')\n",
        "combined_chart.to_json('combined_chart.json')"
      ],
      "metadata": {
        "id": "6PuWlC1I1L8b"
      },
      "execution_count": null,
      "outputs": []
    },
    {
      "cell_type": "code",
      "source": [],
      "metadata": {
        "id": "FQdmzPum8MjJ"
      },
      "execution_count": null,
      "outputs": []
    }
  ],
  "metadata": {
    "kernelspec": {
      "display_name": ".venv",
      "language": "python",
      "name": "python3"
    },
    "language_info": {
      "codemirror_mode": {
        "name": "ipython",
        "version": 3
      },
      "file_extension": ".py",
      "mimetype": "text/x-python",
      "name": "python",
      "nbconvert_exporter": "python",
      "pygments_lexer": "ipython3",
      "version": "3.12.3"
    },
    "colab": {
      "provenance": []
    }
  },
  "nbformat": 4,
  "nbformat_minor": 0
}